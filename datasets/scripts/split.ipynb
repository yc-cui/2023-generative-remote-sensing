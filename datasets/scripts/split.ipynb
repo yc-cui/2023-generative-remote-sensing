{
 "cells": [
  {
   "cell_type": "code",
   "execution_count": 1,
   "metadata": {},
   "outputs": [],
   "source": [
    "import random\n",
    "import os\n",
    "from glob import glob\n",
    "import numpy as np\n",
    "import pandas as pd\n",
    "from sklearn.model_selection import train_test_split\n"
   ]
  },
  {
   "cell_type": "code",
   "execution_count": 2,
   "metadata": {},
   "outputs": [],
   "source": [
    "seed = 42\n",
    "random.seed(seed)\n",
    "np.random.seed(seed)\n",
    "os.chdir(\"/data/cyc/2023-generative-remote-sensing\")"
   ]
  },
  {
   "cell_type": "code",
   "execution_count": 3,
   "metadata": {},
   "outputs": [],
   "source": [
    "def split_cls(data_list, target_list, test_size, save_dir):\n",
    "    unique_lst = np.unique(target_list)\n",
    "    mapping = {value: index for index, value in enumerate(unique_lst)}\n",
    "    target_list = list(map(lambda x: mapping[x], target_list))\n",
    "    train_X, test_X, train_y, test_y = train_test_split(data_list,target_list, test_size=test_size, random_state=seed, stratify=target_list)\n",
    "    train_set = np.column_stack((train_X, train_y))\n",
    "    test_set = np.column_stack((test_X, test_y))\n",
    "    if not os.path.exists(save_dir):\n",
    "        os.makedirs(save_dir)\n",
    "    np.savetxt(os.path.join(save_dir, \"train.flist\"), train_set, delimiter=',', newline='\\n', fmt='%s')\n",
    "    np.savetxt(os.path.join(save_dir, \"test.flist\"), test_set, delimiter=',', newline='\\n', fmt='%s')\n",
    "    return save_dir"
   ]
  },
  {
   "cell_type": "code",
   "execution_count": 4,
   "metadata": {},
   "outputs": [],
   "source": [
    "# data_list = glob(\"datasets/decomp/AID/*/*\")\n",
    "# target_list = list(map(lambda x: x.split(\"/\")[-2], data_list))\n",
    "# test_size_list = [0.2, 0.4, 0.5, 0.6, 0.8]\n",
    "# [split_cls(data_list, target_list, test_size, f\"datasets/data/cls/AID_test{test_size}\") for test_size in test_size_list]\n"
   ]
  },
  {
   "cell_type": "code",
   "execution_count": 5,
   "metadata": {},
   "outputs": [
    {
     "data": {
      "text/plain": [
       "['datasets/data/cls/WHU-RS19_test0.2',\n",
       " 'datasets/data/cls/WHU-RS19_test0.4',\n",
       " 'datasets/data/cls/WHU-RS19_test0.5',\n",
       " 'datasets/data/cls/WHU-RS19_test0.6',\n",
       " 'datasets/data/cls/WHU-RS19_test0.8']"
      ]
     },
     "execution_count": 5,
     "metadata": {},
     "output_type": "execute_result"
    }
   ],
   "source": [
    "# data_list = glob(\"datasets/decomp/WHU-RS19/*/*\")\n",
    "# target_list = list(map(lambda x: x.split(\"/\")[-2], data_list))\n",
    "# test_size_list = [0.2, 0.4, 0.5, 0.6, 0.8]\n",
    "# [split_cls(data_list, target_list, test_size, f\"datasets/data/cls/WHU-RS19_test{test_size}\") for test_size in test_size_list]\n"
   ]
  },
  {
   "cell_type": "code",
   "execution_count": 6,
   "metadata": {},
   "outputs": [
    {
     "data": {
      "text/plain": [
       "['datasets/data/cls/UCMerced_LandUse_test0.2',\n",
       " 'datasets/data/cls/UCMerced_LandUse_test0.4',\n",
       " 'datasets/data/cls/UCMerced_LandUse_test0.5',\n",
       " 'datasets/data/cls/UCMerced_LandUse_test0.6',\n",
       " 'datasets/data/cls/UCMerced_LandUse_test0.8']"
      ]
     },
     "execution_count": 6,
     "metadata": {},
     "output_type": "execute_result"
    }
   ],
   "source": [
    "# data_list = glob(\"datasets/decomp/UCMerced_LandUse/Images/*/*\")\n",
    "# target_list = list(map(lambda x: x.split(\"/\")[-2], data_list))\n",
    "# test_size_list = [0.2, 0.4, 0.5, 0.6, 0.8]\n",
    "# [split_cls(data_list, target_list, test_size, f\"datasets/data/cls/UCMerced_LandUse_test{test_size}\") for test_size in test_size_list]\n"
   ]
  },
  {
   "cell_type": "code",
   "execution_count": 7,
   "metadata": {},
   "outputs": [
    {
     "data": {
      "text/plain": [
       "['datasets/data/cls/NASC_TG2_test0.2',\n",
       " 'datasets/data/cls/NASC_TG2_test0.4',\n",
       " 'datasets/data/cls/NASC_TG2_test0.5',\n",
       " 'datasets/data/cls/NASC_TG2_test0.6',\n",
       " 'datasets/data/cls/NASC_TG2_test0.8']"
      ]
     },
     "execution_count": 7,
     "metadata": {},
     "output_type": "execute_result"
    }
   ],
   "source": [
    "# data_list = glob(\"datasets/decomp/NASC_TG2/RGB/*/*\")\n",
    "# target_list = list(map(lambda x: x.split(\"/\")[-2], data_list))\n",
    "# test_size_list = [0.2, 0.4, 0.5, 0.6, 0.8]\n",
    "# [split_cls(data_list, target_list, test_size, f\"datasets/data/cls/NASC_TG2_test{test_size}\") for test_size in test_size_list]\n"
   ]
  },
  {
   "cell_type": "code",
   "execution_count": null,
   "metadata": {},
   "outputs": [],
   "source": []
  }
 ],
 "metadata": {
  "kernelspec": {
   "display_name": "deepfcn-river",
   "language": "python",
   "name": "python3"
  },
  "language_info": {
   "codemirror_mode": {
    "name": "ipython",
    "version": 3
   },
   "file_extension": ".py",
   "mimetype": "text/x-python",
   "name": "python",
   "nbconvert_exporter": "python",
   "pygments_lexer": "ipython3",
   "version": "3.9.16"
  },
  "orig_nbformat": 4
 },
 "nbformat": 4,
 "nbformat_minor": 2
}
