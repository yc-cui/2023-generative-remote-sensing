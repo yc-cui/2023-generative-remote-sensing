{
 "cells": [
  {
   "cell_type": "code",
   "execution_count": 1,
   "metadata": {},
   "outputs": [
    {
     "name": "stderr",
     "output_type": "stream",
     "text": [
      "/home/dell/miniconda3/envs/Extend/lib/python3.10/site-packages/tqdm/auto.py:21: TqdmWarning: IProgress not found. Please update jupyter and ipywidgets. See https://ipywidgets.readthedocs.io/en/stable/user_install.html\n",
      "  from .autonotebook import tqdm as notebook_tqdm\n"
     ]
    }
   ],
   "source": [
    "import os\n",
    "from PIL import Image\n",
    "from typing import List, Dict\n",
    "from transformers import DataProcessor, InputExample\n",
    "\n",
    "os.chdir(\"/data/cyc/2023-generative-remote-sensing\")\n"
   ]
  },
  {
   "cell_type": "code",
   "execution_count": null,
   "metadata": {},
   "outputs": [],
   "source": [
    "class MyProcessor(DataProcessor):\n",
    "\n",
    "    def get_examples(self, file_path: str) -> List[InputExample]:\n",
    "        examples = []\n",
    "        with open(file_path, \"r\", encoding=\"utf-8\") as f:\n",
    "            for line in f:\n",
    "                line = line.strip()\n",
    "                # 解析图片路径和标签\n",
    "                path, label = line.split(\",\")\n",
    "                label = int(label)\n",
    "                # 读取图片\n",
    "                with open(path, \"rb\") as f_img:\n",
    "                    img = Image.open(f_img)\n",
    "                    img = img.convert(\"RGB\")\n",
    "                # 构造 example\n",
    "                example = InputExample(guid=None, image=img, label=label)\n",
    "                examples.append(example)\n",
    "        return examples"
   ]
  },
  {
   "cell_type": "code",
   "execution_count": null,
   "metadata": {},
   "outputs": [],
   "source": [
    "processor = MyProcessor()\n",
    "train_examples = processor.get_examples(\"datasets/new/AID_test0.2/new.flist\")"
   ]
  }
 ],
 "metadata": {
  "kernelspec": {
   "display_name": "Extend",
   "language": "python",
   "name": "python3"
  },
  "language_info": {
   "codemirror_mode": {
    "name": "ipython",
    "version": 3
   },
   "file_extension": ".py",
   "mimetype": "text/x-python",
   "name": "python",
   "nbconvert_exporter": "python",
   "pygments_lexer": "ipython3",
   "version": "3.10.11"
  },
  "orig_nbformat": 4
 },
 "nbformat": 4,
 "nbformat_minor": 2
}
